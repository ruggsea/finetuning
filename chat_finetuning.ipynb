{
 "cells": [
  {
   "cell_type": "code",
   "execution_count": 1,
   "id": "bf3406b6-2b14-437a-b503-b4cd54bf79d9",
   "metadata": {},
   "outputs": [
    {
     "name": "stdout",
     "output_type": "stream",
     "text": [
      "env: HF_HOME=/hpcwork/ba214121/.cache/huggingface\n",
      "env: TRANFORMERS_CACHE=/hpcwork/ba214121/.cache/huggingface\n",
      "env: HF_DATASETS_CACHE=/hpcwork/ba214121/.cache/huggingface\n",
      "env: WANDB_DIR=/hpcwork/ba214121/.cache/\n",
      "/hpcwork/ba214121/.cache/huggingface\n"
     ]
    }
   ],
   "source": [
    "## making sure env variables are set\n",
    "%env HF_HOME=/hpcwork/ba214121/.cache/huggingface\n",
    "%env TRANFORMERS_CACHE=/hpcwork/ba214121/.cache/huggingface\n",
    "%env HF_DATASETS_CACHE=/hpcwork/ba214121/.cache/huggingface\n",
    "%env WANDB_DIR=/hpcwork/ba214121/.cache/\n",
    "\n",
    "!echo $HF_DATASETS_CACHE"
   ]
  },
  {
   "cell_type": "code",
   "execution_count": 2,
   "id": "75a53aa9-a1e0-400c-b0f7-ba589ab97c05",
   "metadata": {
    "id": "75a53aa9-a1e0-400c-b0f7-ba589ab97c05",
    "tags": []
   },
   "outputs": [],
   "source": [
    "# You only need to run this once per machine\n",
    "#!pip install -q -U bitsandbytes\n",
    "#!pip install -q -U git+https://github.com/huggingface/transformers.git\n",
    "#!pip install -q -U git+https://github.com/huggingface/peft.git\n",
    "#!pip install -q -U git+https://github.com/huggingface/accelerate.git\n",
    "#!pip install -q -U datasets scipy ipywidgets matplotlib\n",
    "#!pip install -q -U sentencepiece\n",
    "#!pip install -q -U mistral-common\n",
    "#!pip install -q -U protobuf\n",
    "#!pip install -q -U wandb"
   ]
  },
  {
   "cell_type": "code",
   "execution_count": 3,
   "id": "4e005881-5462-4910-b9a8-48905a086b9f",
   "metadata": {
    "id": "4e005881-5462-4910-b9a8-48905a086b9f",
    "tags": []
   },
   "outputs": [
    {
     "name": "stderr",
     "output_type": "stream",
     "text": [
      "Failed to detect the name of this notebook, you can set it manually with the WANDB_NOTEBOOK_NAME environment variable to enable code saving.\n",
      "\u001b[34m\u001b[1mwandb\u001b[0m: Currently logged in as: \u001b[33mruggsea\u001b[0m (\u001b[33mruggero\u001b[0m). Use \u001b[1m`wandb login --relogin`\u001b[0m to force relogin\n"
     ]
    },
    {
     "data": {
      "text/plain": [
       "True"
      ]
     },
     "execution_count": 3,
     "metadata": {},
     "output_type": "execute_result"
    }
   ],
   "source": [
    "import pandas as pd\n",
    "import wandb, os\n",
    "wandb.login()"
   ]
  },
  {
   "cell_type": "code",
   "execution_count": 4,
   "id": "7acd1d8d-da90-44d9-90e9-aeed074c8f83",
   "metadata": {
    "colab": {
     "referenced_widgets": [
      "c16285eaa5f94f2cb93378c92ad78c60",
      "6e7c3cf2bb0f462fb756acd438135d1b"
     ]
    },
    "id": "7acd1d8d-da90-44d9-90e9-aeed074c8f83",
    "outputId": "626ce0b5-43d5-4fc9-e313-0edee4489c7b",
    "tags": []
   },
   "outputs": [
    {
     "data": {
      "application/vnd.jupyter.widget-view+json": {
       "model_id": "82851f4112d04fa4860a0382f031dbd9",
       "version_major": 2,
       "version_minor": 0
      },
      "text/plain": [
       "Creating json from Arrow format:   0%|          | 0/12 [00:00<?, ?ba/s]"
      ]
     },
     "metadata": {},
     "output_type": "display_data"
    },
    {
     "data": {
      "application/vnd.jupyter.widget-view+json": {
       "model_id": "74c0701964a54ecca92a878ad670c8f4",
       "version_major": 2,
       "version_minor": 0
      },
      "text/plain": [
       "Creating json from Arrow format:   0%|          | 0/1 [00:00<?, ?ba/s]"
      ]
     },
     "metadata": {},
     "output_type": "display_data"
    },
    {
     "data": {
      "text/plain": [
       "847047"
      ]
     },
     "execution_count": 4,
     "metadata": {},
     "output_type": "execute_result"
    }
   ],
   "source": [
    "from datasets import load_dataset\n",
    "\n",
    "# load ruggsea/stanford-encyclopedia-of-philosophy_chat_multi_turn and then split it into train and eval\n",
    "\n",
    "dataset = load_dataset(\"ruggsea/stanford-encyclopedia-of-philosophy_chat_multi_turn\")\n",
    "\n",
    "train = dataset['train']\n",
    "\n",
    "# 1% of the data is used for eval, 99% for training\n",
    "eval_train = train.train_test_split(test_size=0.01)\n",
    "eval = eval_train['test']\n",
    "train = eval_train['train']\n",
    "\n",
    "\n",
    "# create a folder to save the data\n",
    "\n",
    "os.makedirs('chat_finetuning', exist_ok=True)\n",
    "\n",
    "# save the data in jsonlines format\n",
    "\n",
    "train.to_json('chat_finetuning/train.jsonl', orient='records', lines=True)\n",
    "eval.to_json('chat_finetuning/eval.jsonl', orient='records', lines=True)"
   ]
  },
  {
   "cell_type": "code",
   "execution_count": 5,
   "id": "b52788b1",
   "metadata": {},
   "outputs": [
    {
     "name": "stdout",
     "output_type": "stream",
     "text": [
      "Number of training examples: 11784\n",
      "Number of eval examples: 120\n"
     ]
    }
   ],
   "source": [
    "# print the number of examples in the training and eval sets\n",
    "print(f\"Number of training examples: {len(train)}\")\n",
    "print(f\"Number of eval examples: {len(eval)}\")"
   ]
  },
  {
   "cell_type": "code",
   "execution_count": 6,
   "id": "303fac83-55a5-4f19-9669-9a6df5ed0b6b",
   "metadata": {
    "id": "303fac83-55a5-4f19-9669-9a6df5ed0b6b",
    "tags": []
   },
   "outputs": [],
   "source": [
    "# from accelerate import FullyShardedDataParallelPlugin, Accelerator\n",
    "# from torch.distributed.fsdp.fully_sharded_data_parallel import FullOptimStateDictConfig, FullStateDictConfig\n",
    "\n",
    "# fsdp_plugin = FullyShardedDataParallelPlugin(\n",
    "#     state_dict_config=FullStateDictConfig(offload_to_cpu=True, rank0_only=False),\n",
    "#     optim_state_dict_config=FullOptimStateDictConfig(offload_to_cpu=True, rank0_only=False),\n",
    "# )\n",
    "\n",
    "# accelerator = Accelerator(fsdp_plugin=fsdp_plugin)"
   ]
  },
  {
   "cell_type": "code",
   "execution_count": 7,
   "id": "764e1f8d-52dc-4962-8549-92c3d1cc92ba",
   "metadata": {
    "id": "764e1f8d-52dc-4962-8549-92c3d1cc92ba",
    "outputId": "8ddc216a-4605-4771-bde2-fcbb118a37f1",
    "tags": []
   },
   "outputs": [
    {
     "data": {
      "application/vnd.jupyter.widget-view+json": {
       "model_id": "d4bbaeee3f514329933efa39eb06e6c2",
       "version_major": 2,
       "version_minor": 0
      },
      "text/plain": [
       "Loading checkpoint shards:   0%|          | 0/4 [00:00<?, ?it/s]"
      ]
     },
     "metadata": {},
     "output_type": "display_data"
    }
   ],
   "source": [
    "import torch\n",
    "from transformers import AutoTokenizer, AutoModelForCausalLM, BitsAndBytesConfig\n",
    "\n",
    "base_model_id = \"meta-llama/Meta-Llama-3.1-8B-Instruct\"\n",
    "\n",
    "\n",
    "bnb_config = BitsAndBytesConfig(\n",
    "    bnb_4bit_quant_type=\"nf4\", \n",
    "    bnb_4bit_compute_dtype=torch.bfloat16\n",
    ")\n",
    "\n",
    "\n",
    "\n",
    "model = AutoModelForCausalLM.from_pretrained(\n",
    "    base_model_id,\n",
    "    device_map=\"auto\",\n",
    "    torch_dtype=torch.bfloat16,\n",
    "    quantization_config=bnb_config\n",
    ")\n",
    "\n"
   ]
  },
  {
   "cell_type": "code",
   "execution_count": 8,
   "id": "35c0af55-e57f-4286-aead-ab7347b54da5",
   "metadata": {
    "id": "35c0af55-e57f-4286-aead-ab7347b54da5",
    "tags": []
   },
   "outputs": [],
   "source": [
    "tokenizer = AutoTokenizer.from_pretrained(\n",
    "    base_model_id,\n",
    "    padding_side=\"left\",\n",
    "    add_eos_token=True,\n",
    "    add_bos_token=True,\n",
    ")\n",
    "tokenizer.pad_token = tokenizer.eos_token"
   ]
  },
  {
   "cell_type": "code",
   "execution_count": 9,
   "id": "f3c37919-ebcb-4069-b032-f8e117d35acd",
   "metadata": {},
   "outputs": [],
   "source": [
    "max_length=4096 # this value is tentative\n",
    "\n",
    "train_chats=tokenizer.apply_chat_template(train[\"conversation\"],\n",
    "        truncation=True,\n",
    "        max_length=max_length,\n",
    "        padding=\"max_length\",\n",
    ")\n",
    "\n",
    "eval_chats=tokenizer.apply_chat_template(eval[\"conversation\"],\n",
    "        truncation=True,\n",
    "        max_length=max_length,\n",
    "        padding=\"max_length\",\n",
    ")"
   ]
  },
  {
   "cell_type": "code",
   "execution_count": 10,
   "id": "1713db33-24da-4c71-afe2-4f7cb1e7b7ee",
   "metadata": {
    "id": "1713db33-24da-4c71-afe2-4f7cb1e7b7ee",
    "tags": []
   },
   "outputs": [],
   "source": [
    "from peft import prepare_model_for_kbit_training\n",
    "\n",
    "model.gradient_checkpointing_enable()\n",
    "model = prepare_model_for_kbit_training(model)"
   ]
  },
  {
   "cell_type": "code",
   "execution_count": 11,
   "id": "f8667b82-d73d-4a92-ac46-112b844a539c",
   "metadata": {
    "id": "f8667b82-d73d-4a92-ac46-112b844a539c",
    "tags": []
   },
   "outputs": [],
   "source": [
    "def print_trainable_parameters(model):\n",
    "    \"\"\"\n",
    "    Prints the number of trainable parameters in the model.\n",
    "    \"\"\"\n",
    "    trainable_params = 0\n",
    "    all_param = 0\n",
    "    for _, param in model.named_parameters():\n",
    "        all_param += param.numel()\n",
    "        if param.requires_grad:\n",
    "            trainable_params += param.numel()\n",
    "    print(\n",
    "        f\"trainable params: {trainable_params} || all params: {all_param} || trainable%: {100 * trainable_params / all_param}\"\n",
    "    )"
   ]
  },
  {
   "cell_type": "code",
   "execution_count": 12,
   "id": "be04836d-0551-4f2b-a228-0eabf7a09dbb",
   "metadata": {
    "id": "be04836d-0551-4f2b-a228-0eabf7a09dbb",
    "tags": []
   },
   "outputs": [
    {
     "name": "stdout",
     "output_type": "stream",
     "text": [
      "trainable params: 88121344 || all params: 4628721664 || trainable%: 1.9037944036550305\n"
     ]
    }
   ],
   "source": [
    "from peft import LoraConfig, get_peft_model\n",
    "\n",
    "config = LoraConfig(\n",
    "    r=32,\n",
    "    lora_alpha=64,\n",
    "    target_modules=[\n",
    "        \"q_proj\",\n",
    "        \"k_proj\",\n",
    "        \"v_proj\",\n",
    "        \"o_proj\",\n",
    "        \"gate_proj\",\n",
    "        \"up_proj\",\n",
    "        \"down_proj\",\n",
    "        \"lm_head\",\n",
    "    ],\n",
    "    bias=\"none\",\n",
    "    lora_dropout=0.05,  # Conventional\n",
    "    task_type=\"CAUSAL_LM\",\n",
    ")\n",
    "\n",
    "model = get_peft_model(model, config)\n",
    "print_trainable_parameters(model)"
   ]
  },
  {
   "cell_type": "code",
   "execution_count": 13,
   "id": "fb2b78e9-01fc-461a-a03f-0b0ae1747be8",
   "metadata": {},
   "outputs": [
    {
     "data": {
      "text/plain": [
       "1"
      ]
     },
     "execution_count": 13,
     "metadata": {},
     "output_type": "execute_result"
    }
   ],
   "source": [
    "if torch.cuda.device_count() > 1: # If more than 1 GPU\n",
    "    model.is_parallelizable = True\n",
    "    model.model_parallel = True\n",
    "\n",
    "torch.cuda.device_count()"
   ]
  },
  {
   "cell_type": "code",
   "execution_count": 14,
   "id": "3ec626f3-b6e8-4d47-bb0f-a2a83527ee9a",
   "metadata": {
    "id": "3ec626f3-b6e8-4d47-bb0f-a2a83527ee9a",
    "tags": []
   },
   "outputs": [],
   "source": [
    "# model = accelerator.prepare_model(model)"
   ]
  },
  {
   "cell_type": "code",
   "execution_count": null,
   "id": "23484244-cb11-444d-839d-491e484c0a86",
   "metadata": {
    "id": "23484244-cb11-444d-839d-491e484c0a86",
    "outputId": "809ef293-24f6-4674-9ddf-53bdb4d16927",
    "tags": []
   },
   "outputs": [
    {
     "name": "stderr",
     "output_type": "stream",
     "text": [
      "Detected kernel version 4.18.0, which is below the recommended minimum of 5.5.0; this can cause the process to hang. It is recommended to upgrade the kernel to the minimum version or higher.\n"
     ]
    },
    {
     "data": {
      "text/html": [
       "Changes to your `wandb` environment variables will be ignored because your `wandb` session has already started. For more information on how to modify your settings with `wandb.init()` arguments, please refer to <a href='https://wandb.me/wandb-init' target=\"_blank\">the W&B docs</a>."
      ],
      "text/plain": [
       "<IPython.core.display.HTML object>"
      ]
     },
     "metadata": {},
     "output_type": "display_data"
    },
    {
     "data": {
      "text/html": [
       "wandb version 0.17.6 is available!  To upgrade, please run:\n",
       " $ pip install wandb --upgrade"
      ],
      "text/plain": [
       "<IPython.core.display.HTML object>"
      ]
     },
     "metadata": {},
     "output_type": "display_data"
    },
    {
     "data": {
      "text/html": [
       "Tracking run with wandb version 0.17.5"
      ],
      "text/plain": [
       "<IPython.core.display.HTML object>"
      ]
     },
     "metadata": {},
     "output_type": "display_data"
    },
    {
     "data": {
      "text/html": [
       "Run data is saved locally in <code>/hpcwork/ba214121/.cache/wandb/run-20240814_164309-0e9ghziu</code>"
      ],
      "text/plain": [
       "<IPython.core.display.HTML object>"
      ]
     },
     "metadata": {},
     "output_type": "display_data"
    },
    {
     "data": {
      "text/html": [
       "Syncing run <strong><a href='https://wandb.ai/ruggero/stanford-philosophy-chat_finetune/runs/0e9ghziu' target=\"_blank\">llama3.1-8B-Instruct-stanford-philosophy-chat_finetune-2024-08-14-16-43</a></strong> to <a href='https://wandb.ai/ruggero/stanford-philosophy-chat_finetune' target=\"_blank\">Weights & Biases</a> (<a href='https://wandb.me/run' target=\"_blank\">docs</a>)<br/>"
      ],
      "text/plain": [
       "<IPython.core.display.HTML object>"
      ]
     },
     "metadata": {},
     "output_type": "display_data"
    },
    {
     "data": {
      "text/html": [
       " View project at <a href='https://wandb.ai/ruggero/stanford-philosophy-chat_finetune' target=\"_blank\">https://wandb.ai/ruggero/stanford-philosophy-chat_finetune</a>"
      ],
      "text/plain": [
       "<IPython.core.display.HTML object>"
      ]
     },
     "metadata": {},
     "output_type": "display_data"
    },
    {
     "data": {
      "text/html": [
       " View run at <a href='https://wandb.ai/ruggero/stanford-philosophy-chat_finetune/runs/0e9ghziu' target=\"_blank\">https://wandb.ai/ruggero/stanford-philosophy-chat_finetune/runs/0e9ghziu</a>"
      ],
      "text/plain": [
       "<IPython.core.display.HTML object>"
      ]
     },
     "metadata": {},
     "output_type": "display_data"
    },
    {
     "name": "stderr",
     "output_type": "stream",
     "text": [
      "/cvmfs/jupyter.hpc.rwth.de/clients/pytorch231-c23/lib/python3.11/site-packages/torch/utils/checkpoint.py:464: UserWarning: torch.utils.checkpoint: the use_reentrant parameter should be passed explicitly. In version 2.4 we will raise an exception if use_reentrant is not passed. use_reentrant=False is recommended, but if you need to preserve the current default behavior, you can pass use_reentrant=True. Refer to docs for more details on the differences between the two variants.\n",
      "  warnings.warn(\n"
     ]
    },
    {
     "data": {
      "text/html": [
       "\n",
       "    <div>\n",
       "      \n",
       "      <progress value='11678' max='11784' style='width:300px; height:20px; vertical-align: middle;'></progress>\n",
       "      [11678/11784 4:12:48 < 02:17, 0.77 it/s, Epoch 0.99/1]\n",
       "    </div>\n",
       "    <table border=\"1\" class=\"dataframe\">\n",
       "  <thead>\n",
       " <tr style=\"text-align: left;\">\n",
       "      <th>Step</th>\n",
       "      <th>Training Loss</th>\n",
       "      <th>Validation Loss</th>\n",
       "    </tr>\n",
       "  </thead>\n",
       "  <tbody>\n",
       "    <tr>\n",
       "      <td>500</td>\n",
       "      <td>1.343300</td>\n",
       "      <td>1.282616</td>\n",
       "    </tr>\n",
       "    <tr>\n",
       "      <td>1000</td>\n",
       "      <td>1.224500</td>\n",
       "      <td>1.257805</td>\n",
       "    </tr>\n",
       "    <tr>\n",
       "      <td>1500</td>\n",
       "      <td>1.200700</td>\n",
       "      <td>1.243441</td>\n",
       "    </tr>\n",
       "    <tr>\n",
       "      <td>2000</td>\n",
       "      <td>1.278700</td>\n",
       "      <td>1.239794</td>\n",
       "    </tr>\n",
       "    <tr>\n",
       "      <td>2500</td>\n",
       "      <td>1.223600</td>\n",
       "      <td>1.234607</td>\n",
       "    </tr>\n",
       "    <tr>\n",
       "      <td>3000</td>\n",
       "      <td>1.225900</td>\n",
       "      <td>1.231025</td>\n",
       "    </tr>\n",
       "    <tr>\n",
       "      <td>3500</td>\n",
       "      <td>1.137900</td>\n",
       "      <td>1.249657</td>\n",
       "    </tr>\n",
       "    <tr>\n",
       "      <td>4000</td>\n",
       "      <td>1.279600</td>\n",
       "      <td>1.295451</td>\n",
       "    </tr>\n",
       "    <tr>\n",
       "      <td>4500</td>\n",
       "      <td>1.429000</td>\n",
       "      <td>1.375770</td>\n",
       "    </tr>\n",
       "    <tr>\n",
       "      <td>5000</td>\n",
       "      <td>1.214100</td>\n",
       "      <td>1.458103</td>\n",
       "    </tr>\n",
       "    <tr>\n",
       "      <td>5500</td>\n",
       "      <td>1.149700</td>\n",
       "      <td>1.560760</td>\n",
       "    </tr>\n",
       "    <tr>\n",
       "      <td>6000</td>\n",
       "      <td>1.089200</td>\n",
       "      <td>1.691043</td>\n",
       "    </tr>\n",
       "    <tr>\n",
       "      <td>6500</td>\n",
       "      <td>1.124700</td>\n",
       "      <td>1.839511</td>\n",
       "    </tr>\n",
       "    <tr>\n",
       "      <td>7000</td>\n",
       "      <td>1.000200</td>\n",
       "      <td>1.922426</td>\n",
       "    </tr>\n",
       "    <tr>\n",
       "      <td>7500</td>\n",
       "      <td>1.080400</td>\n",
       "      <td>2.075295</td>\n",
       "    </tr>\n",
       "    <tr>\n",
       "      <td>8000</td>\n",
       "      <td>1.056600</td>\n",
       "      <td>2.139123</td>\n",
       "    </tr>\n",
       "    <tr>\n",
       "      <td>8500</td>\n",
       "      <td>1.071900</td>\n",
       "      <td>2.153124</td>\n",
       "    </tr>\n",
       "    <tr>\n",
       "      <td>9000</td>\n",
       "      <td>1.097200</td>\n",
       "      <td>2.282847</td>\n",
       "    </tr>\n",
       "    <tr>\n",
       "      <td>9500</td>\n",
       "      <td>1.087000</td>\n",
       "      <td>2.269875</td>\n",
       "    </tr>\n",
       "    <tr>\n",
       "      <td>10000</td>\n",
       "      <td>1.200200</td>\n",
       "      <td>2.310850</td>\n",
       "    </tr>\n",
       "    <tr>\n",
       "      <td>10500</td>\n",
       "      <td>1.017000</td>\n",
       "      <td>2.366672</td>\n",
       "    </tr>\n",
       "    <tr>\n",
       "      <td>11000</td>\n",
       "      <td>1.149100</td>\n",
       "      <td>2.401662</td>\n",
       "    </tr>\n",
       "    <tr>\n",
       "      <td>11500</td>\n",
       "      <td>1.104100</td>\n",
       "      <td>2.390321</td>\n",
       "    </tr>\n",
       "  </tbody>\n",
       "</table><p>"
      ],
      "text/plain": [
       "<IPython.core.display.HTML object>"
      ]
     },
     "metadata": {},
     "output_type": "display_data"
    },
    {
     "name": "stderr",
     "output_type": "stream",
     "text": [
      "/home/ba214121/.local/lib/python3.11/site-packages/peft/utils/save_and_load.py:203: UserWarning: Setting `save_embedding_layers` to `True` as embedding layers found in `target_modules`.\n",
      "  warnings.warn(\"Setting `save_embedding_layers` to `True` as embedding layers found in `target_modules`.\")\n",
      "\u001b[34m\u001b[1mwandb\u001b[0m: Adding directory to artifact (./llama3.1-8B-Instruct-stanford-philosophy-chat_finetune/checkpoint-3000)... Done. 26.8s\n",
      "/cvmfs/jupyter.hpc.rwth.de/clients/pytorch231-c23/lib/python3.11/site-packages/torch/utils/checkpoint.py:464: UserWarning: torch.utils.checkpoint: the use_reentrant parameter should be passed explicitly. In version 2.4 we will raise an exception if use_reentrant is not passed. use_reentrant=False is recommended, but if you need to preserve the current default behavior, you can pass use_reentrant=True. Refer to docs for more details on the differences between the two variants.\n",
      "  warnings.warn(\n",
      "/home/ba214121/.local/lib/python3.11/site-packages/peft/utils/save_and_load.py:203: UserWarning: Setting `save_embedding_layers` to `True` as embedding layers found in `target_modules`.\n",
      "  warnings.warn(\"Setting `save_embedding_layers` to `True` as embedding layers found in `target_modules`.\")\n",
      "\u001b[34m\u001b[1mwandb\u001b[0m: Adding directory to artifact (./llama3.1-8B-Instruct-stanford-philosophy-chat_finetune/checkpoint-6000)... Done. 28.3s\n",
      "/cvmfs/jupyter.hpc.rwth.de/clients/pytorch231-c23/lib/python3.11/site-packages/torch/utils/checkpoint.py:464: UserWarning: torch.utils.checkpoint: the use_reentrant parameter should be passed explicitly. In version 2.4 we will raise an exception if use_reentrant is not passed. use_reentrant=False is recommended, but if you need to preserve the current default behavior, you can pass use_reentrant=True. Refer to docs for more details on the differences between the two variants.\n",
      "  warnings.warn(\n",
      "/home/ba214121/.local/lib/python3.11/site-packages/peft/utils/save_and_load.py:203: UserWarning: Setting `save_embedding_layers` to `True` as embedding layers found in `target_modules`.\n",
      "  warnings.warn(\"Setting `save_embedding_layers` to `True` as embedding layers found in `target_modules`.\")\n",
      "\u001b[34m\u001b[1mwandb\u001b[0m: Adding directory to artifact (./llama3.1-8B-Instruct-stanford-philosophy-chat_finetune/checkpoint-9000)... Done. 28.9s\n",
      "/cvmfs/jupyter.hpc.rwth.de/clients/pytorch231-c23/lib/python3.11/site-packages/torch/utils/checkpoint.py:464: UserWarning: torch.utils.checkpoint: the use_reentrant parameter should be passed explicitly. In version 2.4 we will raise an exception if use_reentrant is not passed. use_reentrant=False is recommended, but if you need to preserve the current default behavior, you can pass use_reentrant=True. Refer to docs for more details on the differences between the two variants.\n",
      "  warnings.warn(\n"
     ]
    }
   ],
   "source": [
    "import transformers\n",
    "from datetime import datetime\n",
    "from transformers import EarlyStoppingCallback\n",
    "\n",
    "\n",
    "# setting up wandb things\n",
    "project = \"stanford-philosophy-chat_finetune\"\n",
    "base_model_name = \"llama3.1-8B-Instruct\"\n",
    "run_name = base_model_name + \"-\" + project\n",
    "output_dir = \"./\" + run_name\n",
    "os.environ[\"WANDB_PROJECT\"]=project\n",
    "os.environ[\"WANDB_LOG_MODEL\"] = \"checkpoint\"\n",
    "\n",
    "\n",
    "model.resize_token_embeddings(len(tokenizer))\n",
    "\n",
    "trainer = transformers.Trainer(\n",
    "    model=model,\n",
    "    train_dataset=train_chats,\n",
    "    eval_dataset=eval_chats,\n",
    "    args=transformers.TrainingArguments(\n",
    "        output_dir=output_dir,\n",
    "        warmup_steps=0,\n",
    "        per_device_train_batch_size=1,\n",
    "        gradient_accumulation_steps=1,\n",
    "        gradient_checkpointing=True,\n",
    "        num_train_epochs=1,\n",
    "        #max_steps=500,\n",
    "        learning_rate=2e-5, # Want a small lr for finetuning\n",
    "        bf16=True,\n",
    "        optim=\"paged_adamw_8bit\",\n",
    "        logging_steps=15,              # When to start reporting loss\n",
    "        logging_dir=\"./logs\",        # Directory for storing logs\n",
    "        save_strategy=\"steps\",       # Save the model checkpoint every logging step\n",
    "        save_steps=3000,                # Save checkpoints every n steps\n",
    "        eval_strategy=\"steps\", # Evaluate the model every logging step\n",
    "        eval_steps=500,               # Evaluate and save checkpoints every n steps\n",
    "        do_eval=True,                # Perform evaluation at the end of training\n",
    "        report_to=\"wandb\",           # Comment this out if you don't want to use weights & baises\n",
    "        run_name=f\"{run_name}-{datetime.now().strftime('%Y-%m-%d-%H-%M')}\"          # Name of the W&B run (optional)\n",
    "    ),\n",
    "    data_collator=transformers.DataCollatorForLanguageModeling(tokenizer, mlm=False),\n",
    "    callbacks=[EarlyStoppingCallback(early_stopping_patience=3)]  \n",
    ")\n",
    "\n",
    "model.config.use_cache = False  # silence the warnings. Please re-enable for inference!\n",
    "trainer.train()"
   ]
  },
  {
   "cell_type": "code",
   "execution_count": 7,
   "id": "130f2f46-3043-4819-bae2-383581dfb621",
   "metadata": {},
   "outputs": [
    {
     "data": {
      "application/vnd.jupyter.widget-view+json": {
       "model_id": "08a1199e171847019176d0c190af6b83",
       "version_major": 2,
       "version_minor": 0
      },
      "text/plain": [
       "Loading checkpoint shards:   0%|          | 0/4 [00:00<?, ?it/s]"
      ]
     },
     "metadata": {},
     "output_type": "display_data"
    },
    {
     "data": {
      "application/vnd.jupyter.widget-view+json": {
       "model_id": "0fa99e9209d14cd290ef9d6b4428f02b",
       "version_major": 2,
       "version_minor": 0
      },
      "text/plain": [
       "model-00001-of-00004.safetensors:   0%|          | 0.00/4.98G [00:00<?, ?B/s]"
      ]
     },
     "metadata": {},
     "output_type": "display_data"
    },
    {
     "data": {
      "application/vnd.jupyter.widget-view+json": {
       "model_id": "6c41bbe0e92f464687c3425966b225d1",
       "version_major": 2,
       "version_minor": 0
      },
      "text/plain": [
       "model-00002-of-00004.safetensors:   0%|          | 0.00/5.00G [00:00<?, ?B/s]"
      ]
     },
     "metadata": {},
     "output_type": "display_data"
    },
    {
     "data": {
      "application/vnd.jupyter.widget-view+json": {
       "model_id": "34cfabf14ecf4405a4485d5a37284562",
       "version_major": 2,
       "version_minor": 0
      },
      "text/plain": [
       "model-00003-of-00004.safetensors:   0%|          | 0.00/4.92G [00:00<?, ?B/s]"
      ]
     },
     "metadata": {},
     "output_type": "display_data"
    },
    {
     "data": {
      "application/vnd.jupyter.widget-view+json": {
       "model_id": "4c7af8b8196a4e9cab2ff744238c3a8e",
       "version_major": 2,
       "version_minor": 0
      },
      "text/plain": [
       "Upload 4 LFS files:   0%|          | 0/4 [00:00<?, ?it/s]"
      ]
     },
     "metadata": {},
     "output_type": "display_data"
    },
    {
     "data": {
      "application/vnd.jupyter.widget-view+json": {
       "model_id": "cbe26e6c2e4b46dcbf2f5538fb09a339",
       "version_major": 2,
       "version_minor": 0
      },
      "text/plain": [
       "model-00004-of-00004.safetensors:   0%|          | 0.00/1.17G [00:00<?, ?B/s]"
      ]
     },
     "metadata": {},
     "output_type": "display_data"
    },
    {
     "data": {
      "application/vnd.jupyter.widget-view+json": {
       "model_id": "b162381572c543b79b93fee540126900",
       "version_major": 2,
       "version_minor": 0
      },
      "text/plain": [
       "README.md:   0%|          | 0.00/5.17k [00:00<?, ?B/s]"
      ]
     },
     "metadata": {},
     "output_type": "display_data"
    },
    {
     "data": {
      "text/plain": [
       "CommitInfo(commit_url='https://huggingface.co/ruggsea/Llama3.1-Chat-stanford-encyclopedia-philosophy/commit/92abad9292e391616bfc0556a6d43dcbd068bf05', commit_message='Upload tokenizer', commit_description='', oid='92abad9292e391616bfc0556a6d43dcbd068bf05', pr_url=None, pr_revision=None, pr_num=None)"
      ]
     },
     "execution_count": 7,
     "metadata": {},
     "output_type": "execute_result"
    }
   ],
   "source": [
    "import gc\n",
    "import torch\n",
    "from transformers import AutoTokenizer, AutoModelForCausalLM, BitsAndBytesConfig\n",
    "\n",
    "\n",
    "from peft import PeftModel\n",
    "\n",
    "# Flush memory\n",
    "# del trainer, model\n",
    "gc.collect()\n",
    "torch.cuda.empty_cache()\n",
    "\n",
    "base_model_name =\"meta-llama/Meta-Llama-3-8B-Instruct\"\n",
    "new_model_name=\"ruggsea/Llama3.1-Chat-stanford-encyclopedia-philosophy\"\n",
    "\n",
    "\n",
    "adapter=\"./llama3.1-8B-Instruct-stanford-philosophy-chat_finetune/checkpoint-11784\"\n",
    "tokenizer = AutoTokenizer.from_pretrained(base_model_name)\n",
    "model = AutoModelForCausalLM.from_pretrained(\n",
    "    base_model_name,\n",
    "    low_cpu_mem_usage=True,\n",
    "    return_dict=True,\n",
    "    torch_dtype=torch.float16,\n",
    "    device_map=\"auto\",\n",
    ")\n",
    "\n",
    "# Merge adapter with base model\n",
    "model = PeftModel.from_pretrained(model, adapter)\n",
    "model = model.merge_and_unload()\n",
    "model.push_to_hub(new_model_name, use_temp_dir=True)\n",
    "tokenizer.push_to_hub(new_model_name, use_temp_dir=True)"
   ]
  },
  {
   "cell_type": "markdown",
   "id": "9ee29824-5f0c-4f43-97c6-83c524b2541b",
   "metadata": {},
   "source": [
    "## Testing the model"
   ]
  },
  {
   "cell_type": "code",
   "execution_count": null,
   "id": "510889ea-bec9-406d-a345-59488e3f0f03",
   "metadata": {
    "id": "510889ea-bec9-406d-a345-59488e3f0f03",
    "outputId": "7de5f6e8-fd30-4bb4-dcaf-0cbc17eb6a21",
    "tags": []
   },
   "outputs": [],
   "source": [
    "import torch\n",
    "from transformers import AutoTokenizer, AutoModelForCausalLM, BitsAndBytesConfig\n",
    "\n",
    "base_model_id = \"meta-llama/Meta-Llama-3.1-8B-Instruct\"\n",
    "\n",
    "\n",
    "\n",
    "base_model = AutoModelForCausalLM.from_pretrained(\n",
    "    base_model_id,  # LLama3.1, same as before\n",
    "    #quantization_config=bnb_config,  # Same quantization config as before\n",
    "    device_map=\"auto\",\n",
    "    trust_remote_code=True,\n",
    ")\n",
    "\n",
    "eval_tokenizer = AutoTokenizer.from_pretrained(base_model_id, add_bos_token=True, trust_remote_code=True)"
   ]
  },
  {
   "cell_type": "code",
   "execution_count": null,
   "id": "c9Lw-sxKSZqO",
   "metadata": {
    "id": "c9Lw-sxKSZqO"
   },
   "outputs": [],
   "source": [
    "from peft import PeftModel\n",
    "\n",
    "ft_model = PeftModel.from_pretrained(base_model, \"mistral-stanford-philosophy-finetune/checkpoint-1185\")\n",
    "\n",
    "eval_prompt = \"Please explain the allegory of the cave to me.\"\n",
    "model_input = eval_tokenizer(eval_prompt, return_tensors=\"pt\").to(\"cuda\")\n",
    "\n",
    "ft_model.eval()\n",
    "with torch.no_grad():\n",
    "    print(eval_tokenizer.decode(ft_model.generate(**model_input, max_new_tokens=256, repetition_penalty=1.15)[0], skip_special_tokens=True))"
   ]
  }
 ],
 "metadata": {
  "colab": {
   "provenance": []
  },
  "kernelspec": {
   "display_name": "Python 3 (ipykernel)",
   "language": "python",
   "name": "python3"
  },
  "language_info": {
   "codemirror_mode": {
    "name": "ipython",
    "version": 3
   },
   "file_extension": ".py",
   "mimetype": "text/x-python",
   "name": "python",
   "nbconvert_exporter": "python",
   "pygments_lexer": "ipython3",
   "version": "3.11.6"
  }
 },
 "nbformat": 4,
 "nbformat_minor": 5
}
