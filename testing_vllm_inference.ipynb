{
 "cells": [
  {
   "cell_type": "markdown",
   "id": "f4b6b0b4-300a-4438-93a0-f3fccf8c4177",
   "metadata": {},
   "source": [
    "## Testing to see if the vllm deployment works"
   ]
  },
  {
   "cell_type": "code",
   "execution_count": 20,
   "id": "c9c4a876-9410-4e75-9b28-9b0c19771e6c",
   "metadata": {},
   "outputs": [
    {
     "name": "stdout",
     "output_type": "stream",
     "text": [
      "env: HF_HOME=/hpcwork/ba214121/.cache/huggingface\n",
      "env: TRANFORMERS_CACHE=/hpcwork/ba214121/.cache/huggingface\n",
      "env: HF_DATASETS_CACHE=/hpcwork/ba214121/.cache/huggingface\n",
      "/hpcwork/ba214121/.cache/huggingface\n"
     ]
    }
   ],
   "source": [
    "## loading env variables\n",
    "%env HF_HOME=/hpcwork/ba214121/.cache/huggingface\n",
    "%env TRANFORMERS_CACHE=/hpcwork/ba214121/.cache/huggingface\n",
    "%env HF_DATASETS_CACHE=/hpcwork/ba214121/.cache/huggingface\n",
    "\n",
    "\n",
    "!echo $HF_DATASETS_CACHE"
   ]
  },
  {
   "cell_type": "code",
   "execution_count": null,
   "id": "4ed0c3de-87f5-4590-86cd-d3693d2faeec",
   "metadata": {},
   "outputs": [],
   "source": []
  },
  {
   "cell_type": "code",
   "execution_count": 21,
   "id": "e0031c6b-a993-4456-95f0-ff56583f3921",
   "metadata": {},
   "outputs": [
    {
     "name": "stdout",
     "output_type": "stream",
     "text": [
      "{'id': 'cmpl-97dd996d75c442298373d6672a6645bd', 'object': 'text_completion', 'created': 1722814022, 'model': 'meta-llama/Meta-Llama-3.1-70B-Instruct', 'choices': [{'index': 0, 'text': ' there was a man who devoted his entire life to the service of God. He spent his days and nights in devotion and meditation. Even years passed in solitude could not mode him. He thought himself to be the only devotee and believed that all others', 'logprobs': None, 'finish_reason': 'length', 'stop_reason': None}], 'usage': {'prompt_tokens': 5, 'total_tokens': 55, 'completion_tokens': 50}}\n"
     ]
    }
   ],
   "source": [
    "## using requests\n",
    "import requests\n",
    "\n",
    "# URL for the local server\n",
    "url = \"http://localhost:8000/v1/completions\"\n",
    "\n",
    "# Define the payload for the request\n",
    "payload = {\n",
    "    \"model\": \"meta-llama/Meta-Llama-3.1-70B-Instruct\",\n",
    "    \"prompt\": \"Once upon a time\",\n",
    "    \"max_tokens\": 50\n",
    "}\n",
    "\n",
    "# Send the request to the server\n",
    "response = requests.post(url, json=payload)\n",
    "\n",
    "# Print the response from the server\n",
    "print(response.json())"
   ]
  },
  {
   "cell_type": "code",
   "execution_count": 22,
   "id": "7f613124-3304-4985-9416-2fb4a622c6ef",
   "metadata": {},
   "outputs": [
    {
     "name": "stdout",
     "output_type": "stream",
     "text": [
      "Completion result: Completion(id='cmpl-99bcb24f571544fc9752481fd582b193', choices=[CompletionChoice(finish_reason='stop', index=0, logprobs=None, text=' _______________________\\nWe tend to think that the best country in the world is usually the one we\\'re currently living in. Of course, that\\'s a perfectly natural sentiment. After all, no one really wants to live in a country they don\\'t enjoy!\\nBut, if we had to choose one country that stands out from the rest... That\\'s a different story. A very debatable story!\\nNeedless to say, there are countless ways to evaluate the \"best\" country in the world. Some might say it\\'s based on:\\n1. **GDP per capita**: Switzerland, USA, and Norway consistently rank high in terms of economic prosperity.\\n2. **Happiness and well-being**: Countries like Finland, Denmark, and the Netherlands are known for their high levels of happiness and social welfare.\\n3. **Environmental performance**: Ecuador, Sweden, and Portugal lead the way in protecting their ecosystems and preserving natural resources.\\n4. **Education**: Countries like Singapore, South Korea, and Canada boast exceptional education systems and literacy rates.\\n5. **Cultural heritage**: Nations like France, Italy, and Japan are famous for their rich history, art, and cultural landmarks.\\n\\nUltimately, it\\'s a complex and subjective issue, as each country has its unique strengths and weaknesses. So, if I had to choose a country...\\n\\n**the best country in the world is _______________________**\\nFeel free to fill in the blank with your answer!\\n\\n(Note: This is just a lighthearted, informal discussion. Let\\'s keep the conversation friendly and respectful!)', stop_reason=None)], created=1722814043, model='meta-llama/Meta-Llama-3.1-70B-Instruct', object='text_completion', system_fingerprint=None, usage=CompletionUsage(completion_tokens=311, prompt_tokens=11, total_tokens=322))\n"
     ]
    }
   ],
   "source": [
    "# using openai\n",
    "from openai import OpenAI\n",
    "\n",
    "# Modify OpenAI's API key and API base to use vLLM's API server.\n",
    "openai_api_key = \"EMPTY\"\n",
    "openai_api_base = \"http://localhost:8000/v1\"\n",
    "client = OpenAI(\n",
    "    api_key=openai_api_key,\n",
    "    base_url=openai_api_base,\n",
    ")\n",
    "completion = client.completions.create(model=\"meta-llama/Meta-Llama-3.1-70B-Instruct\",\n",
    "                                      prompt=\"Complete this: the best country in the world is\", max_tokens=1000)\n",
    "print(\"Completion result:\", completion)"
   ]
  },
  {
   "cell_type": "code",
   "execution_count": 52,
   "id": "9dbb0f50-e176-43f4-8ac5-fb5b5cc10f7f",
   "metadata": {},
   "outputs": [
    {
     "name": "stdout",
     "output_type": "stream",
     "text": [
      "Chat response: One philosophical theme that has been debated for centuries is the concept of \"Free Will vs. Determinism.\"\n",
      "\n",
      "**What is it?**\n",
      "\n",
      "The question at the heart of this theme is whether human behavior is entirely determined by factors outside of our control (determinism), or whether we have the ability to make choices that are truly free from external influence (free will).\n",
      "\n",
      "**Determinism**\n",
      "\n",
      "Determinists argue that our thoughts, feelings, and actions are the result of a chain of causes and effects that stretch back to the beginning of time. According to this view, every event, including human decisions and actions, is the inevitable result of prior causes and is therefore predetermined. This means that our choices are not truly free, but are instead the necessary outcome of the circumstances that have led up to them.\n",
      "\n",
      "**Free Will**\n",
      "\n",
      "On the other hand, proponents of free will argue that humans have the ability to make choices that are not entirely determined by external factors. They claim that we have a degree of self-awareness, intentionality, and autonomy that allows us to make decisions that are not predetermined by prior causes. According to this view, our choices may be influenced by various factors, but they are ultimately up to us to decide.\n",
      "\n",
      "**Compatibilism**\n",
      "\n",
      "Some philosophers have attempted to reconcile the two positions by arguing that free will and determinism are compatible. According to this view, free will is not an all-or-nothing concept, but rather a matter of degree. Our choices may be influenced by various factors, but as long as we are not coerced or constrained in some way, we can still be said to have acted freely.\n",
      "\n",
      "**Implications**\n",
      "\n",
      "The debate between free will and determinism has significant implications for various areas of philosophy, including ethics, morality, and the nature of human responsibility. If our choices are entirely determined, do we bear responsibility for them? If we have free will, to what extent are we responsible for the consequences of our actions?\n",
      "\n",
      "**Thinkers associated with this theme**\n",
      "\n",
      "Some notable philosophers who have contributed to this debate include:\n",
      "\n",
      "1. Baruch Spinoza (1632-1677): A Dutch philosopher who argued that God or Nature has predetermined everything that happens, including human decisions and actions.\n",
      "2. John Locke (1632-1704): An English philosopher who argued that human behavior is determined by our experiences and environment, but that we still have the ability to make choices that are free from external influence.\n",
      "3. Immanuel Kant (1724-1804): A German philosopher who argued that human behavior is influenced by both determinism and free will, and that we have a kind of \"transcendental freedom\" that allows us to make choices that are not entirely determined.\n",
      "\n",
      "**Real-world applications**\n",
      "\n",
      "This philosophical theme has implications for many areas of life, including:\n",
      "\n",
      "1. **Criminal justice**: Do we hold people responsible for their actions if they are determined by factors outside of their control?\n",
      "2. **Personal responsibility**: To what extent are we responsible for the consequences of our actions if they are influenced by factors outside of our control?\n",
      "3. **Ethics**: Do we have a moral obligation to act in certain ways, even if our choices are determined by external factors?\n",
      "\n",
      "This theme is ongoing and contentious, with arguments on both sides continuing to be refined and debated.\n"
     ]
    }
   ],
   "source": [
    "# same but using chat\n",
    "\n",
    "from openai import OpenAI\n",
    "# Set OpenAI's API key and API base to use vLLM's API server.\n",
    "openai_api_key = \"EMPTY\"\n",
    "openai_api_base = \"http://localhost:8000/v1\"\n",
    "\n",
    "client = OpenAI(\n",
    "    api_key=openai_api_key,\n",
    "    base_url=openai_api_base,\n",
    ")\n",
    "\n",
    "chat_response = client.chat.completions.create(\n",
    "    model=\"meta-llama/Meta-Llama-3.1-70B-Instruct\",\n",
    "    messages=[\n",
    "        {\"role\": \"system\", \"content\": \"You are a helpful assistant.\"},\n",
    "        {\"role\": \"user\", \"content\": \"Tell me about a philosophical theme\"}\n",
    "    ],\n",
    "    temperature=1,\n",
    "    max_tokens=1000\n",
    ")\n",
    "print(\"Chat response:\", chat_response.choices[0].message.content)\n"
   ]
  }
 ],
 "metadata": {
  "kernelspec": {
   "display_name": "Python 3 (ipykernel)",
   "language": "python",
   "name": "python3"
  },
  "language_info": {
   "codemirror_mode": {
    "name": "ipython",
    "version": 3
   },
   "file_extension": ".py",
   "mimetype": "text/x-python",
   "name": "python",
   "nbconvert_exporter": "python",
   "pygments_lexer": "ipython3",
   "version": "3.11.6"
  }
 },
 "nbformat": 4,
 "nbformat_minor": 5
}
